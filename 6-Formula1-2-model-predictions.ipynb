{
 "cells": [
  {
   "cell_type": "code",
   "execution_count": 1,
   "id": "5eca9da7-4296-4df6-97ea-75c8410558c4",
   "metadata": {},
   "outputs": [],
   "source": [
    "import joblib\n",
    "import pandas as pd"
   ]
  },
  {
   "cell_type": "code",
   "execution_count": 3,
   "id": "9f65ef85-e842-4dd3-8ae1-67fe8794c65e",
   "metadata": {},
   "outputs": [],
   "source": [
    "# load the models \n",
    "loaded_model_stints = joblib.load('model_stints.pkl')\n",
    "loaded_model_tires = joblib.load('model_tires.pkl')\n",
    "loaded_model_laps = joblib.load('model_laps.pkl')\n",
    "loaded_model_avg_lap_time = joblib.load('model_avg_lap_time.pkl')"
   ]
  },
  {
   "cell_type": "code",
   "execution_count": 5,
   "id": "57401226-f867-4016-8abb-3d34593c880f",
   "metadata": {},
   "outputs": [],
   "source": [
    "# Test inputs to make predictions (example inputs)\n",
    "test_input = pd.DataFrame({\n",
    "    'EventName': ['Mexican Grand Prix'],     # Categorical - event name\n",
    "    'Driver': ['VER'],                       # Categorical - driver name\n",
    "    'GridPosition': [1],                     # Integer - starting position\n",
    "    'Year': [2024],                          # Categorical - race year\n",
    "    'TyreLife': [5],                         # Integer - tire age in laps\n",
    "    'FreshTyre': ['True'],                   # Boolean - fresh tires (True means fresh)\n",
    "    'TrackStatus': [2671],                   # Categorical - track status (1: clear)\n",
    "    'Rainfall': ['True'],                    # Boolean - rainfall (True means rainy)\n",
    "    'Speed': [280.0],                        # Float - car speed in km/h\n",
    "    'Throttle': [85],                        # Integer - throttle percentage\n",
    "    'Brake': ['False'],                      # Boolean - brake applied (False: no)\n",
    "    'DRS': [1],                              # Categorical - DRS active (1: yes)\n",
    "    'ClassifiedPosition': [1],               # Categorical - current race position\n",
    "    'AirTemp': [30],                         # Float - air temperature in Celsius\n",
    "    'Humidity': [80.0],                      # Float - humidity percentage\n",
    "    'Pressure': [990.0],                     # Float - air pressure in hPa\n",
    "    'TrackTemp': [35],                       # Float - track temperature in Celsius\n",
    "    'WindSpeed': [5]                         # Float - wind speed in km/h\n",
    "})\n",
    "\n",
    "# Convert categorical columns to 'category' dtype\n",
    "test_input['Driver'] = test_input['Driver'].astype('category')\n",
    "test_input['EventName'] = test_input['EventName'].astype('category')\n",
    "test_input['ClassifiedPosition'] = test_input['ClassifiedPosition'].astype('category')\n",
    "test_input['FreshTyre'] = test_input['FreshTyre'].astype('category')\n",
    "test_input['Brake'] = test_input['Brake'].astype('category')\n",
    "test_input['Rainfall'] = test_input['Rainfall'].astype('category')\n",
    "test_input['Year'] = test_input['Year'].astype('category')\n",
    "test_input['TrackStatus'] = test_input['TrackStatus'].astype('category')\n",
    "test_input['DRS'] = test_input['DRS'].astype('category')"
   ]
  },
  {
   "cell_type": "code",
   "execution_count": 7,
   "id": "80568435-869f-4c75-a708-6adf234c0bf2",
   "metadata": {},
   "outputs": [
    {
     "name": "stdout",
     "output_type": "stream",
     "text": [
      "Predicted Number of Stints: 3\n"
     ]
    }
   ],
   "source": [
    "# Predictions from loaded models\n",
    "# Model 1 - Number of Stints\n",
    "pred_stints = loaded_model_stints.predict(test_input)\n",
    "pred_stints = round(pred_stints[0])  # Rounding the prediction\n",
    "\n",
    "print(f'Predicted Number of Stints: {pred_stints}')\n",
    "\n",
    "# (pred_stints, pred_tires, pred_laps, pred_avg_lap_time)"
   ]
  },
  {
   "cell_type": "code",
   "execution_count": 9,
   "id": "274710a6-c500-4c6e-83b1-568245505146",
   "metadata": {},
   "outputs": [
    {
     "name": "stdout",
     "output_type": "stream",
     "text": [
      "Predicted Tire Compounds Used: ['SOFT']\n"
     ]
    }
   ],
   "source": [
    "# Model 2- Used Tire Compound\n",
    "pred_tires = loaded_model_tires.predict(test_input)\n",
    "print(f'Predicted Tire Compounds Used: {pred_tires}')"
   ]
  },
  {
   "cell_type": "code",
   "execution_count": 11,
   "id": "ccd2aa74-3394-4577-9e15-1ffb9dd09d20",
   "metadata": {},
   "outputs": [
    {
     "name": "stdout",
     "output_type": "stream",
     "text": [
      "Predicted Number of Laps within Each Stint: 16\n"
     ]
    }
   ],
   "source": [
    "# Model 3 - Lap Number per Stint\n",
    "pred_laps = loaded_model_laps.predict(test_input)\n",
    "pred_laps = round(pred_laps[0])  # Rounding the prediction\n",
    "\n",
    "print(f'Predicted Number of Laps within Each Stint: {pred_laps}')"
   ]
  },
  {
   "cell_type": "code",
   "execution_count": 13,
   "id": "ccf1f594-1f4f-464d-a7aa-f27f057768f4",
   "metadata": {},
   "outputs": [
    {
     "name": "stdout",
     "output_type": "stream",
     "text": [
      "Predicted Average Lap Time per Stint: [86.21613]\n"
     ]
    }
   ],
   "source": [
    "# Model 4 - Average Lap Time per Stint\n",
    "pred_avg_lap_time = loaded_model_avg_lap_time.predict(test_input)\n",
    "print(f'Predicted Average Lap Time per Stint: {pred_avg_lap_time}')"
   ]
  },
  {
   "cell_type": "code",
   "execution_count": null,
   "id": "70e9d48a-ca0d-478c-a544-3d505697a65f",
   "metadata": {},
   "outputs": [],
   "source": []
  }
 ],
 "metadata": {
  "kernelspec": {
   "display_name": "Python 3 (ipykernel)",
   "language": "python",
   "name": "python3"
  },
  "language_info": {
   "codemirror_mode": {
    "name": "ipython",
    "version": 3
   },
   "file_extension": ".py",
   "mimetype": "text/x-python",
   "name": "python",
   "nbconvert_exporter": "python",
   "pygments_lexer": "ipython3",
   "version": "3.12.4"
  }
 },
 "nbformat": 4,
 "nbformat_minor": 5
}
