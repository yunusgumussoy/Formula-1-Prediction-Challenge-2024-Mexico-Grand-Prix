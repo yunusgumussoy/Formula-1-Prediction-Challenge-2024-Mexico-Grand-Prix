{
 "cells": [
  {
   "cell_type": "code",
   "execution_count": 1,
   "id": "63c182a6-e842-4129-ad15-ba40e7bb0e83",
   "metadata": {},
   "outputs": [],
   "source": [
    "# Libraries\n",
    "import pandas as pd\n",
    "import seaborn as sns\n",
    "import matplotlib.pyplot as plt\n",
    "import numpy as np\n",
    "from sklearn.preprocessing import StandardScaler"
   ]
  },
  {
   "cell_type": "code",
   "execution_count": 2,
   "id": "3653889c-72b5-4a2e-bac9-6e8e93b031ea",
   "metadata": {},
   "outputs": [],
   "source": [
    "# Data Access\n",
    "merged_data = pd.read_csv(\"C:/Users/yunus/Downloads/Formula1-2/output.csv\", low_memory=False)\n"
   ]
  },
  {
   "cell_type": "code",
   "execution_count": 3,
   "id": "9b0d6002-119b-49e9-a34d-b3bbd2e491ac",
   "metadata": {},
   "outputs": [
    {
     "name": "stdout",
     "output_type": "stream",
     "text": [
      "<class 'pandas.core.frame.DataFrame'>\n",
      "RangeIndex: 23660 entries, 0 to 23659\n",
      "Data columns (total 96 columns):\n",
      " #   Column              Non-Null Count  Dtype  \n",
      "---  ------              --------------  -----  \n",
      " 0   EventName           23660 non-null  object \n",
      " 1   Year                23660 non-null  int64  \n",
      " 2   Time_x              23660 non-null  object \n",
      " 3   Driver              23660 non-null  object \n",
      " 4   DriverNumber_left   23660 non-null  int64  \n",
      " 5   LapTime             23510 non-null  object \n",
      " 6   LapNumber           23660 non-null  float64\n",
      " 7   Stint               23660 non-null  float64\n",
      " 8   PitOutTime          697 non-null    object \n",
      " 9   PitInTime           706 non-null    object \n",
      " 10  Sector1Time         23199 non-null  object \n",
      " 11  Sector2Time         23634 non-null  object \n",
      " 12  Sector3Time         23610 non-null  object \n",
      " 13  Sector1SessionTime  23147 non-null  object \n",
      " 14  Sector2SessionTime  23634 non-null  object \n",
      " 15  Sector3SessionTime  23610 non-null  object \n",
      " 16  SpeedI1             20305 non-null  float64\n",
      " 17  SpeedI2             23634 non-null  float64\n",
      " 18  SpeedFL             22932 non-null  float64\n",
      " 19  SpeedST             21208 non-null  float64\n",
      " 20  IsPersonalBest      23647 non-null  object \n",
      " 21  Compound            23660 non-null  object \n",
      " 22  TyreLife            23660 non-null  float64\n",
      " 23  FreshTyre           23660 non-null  bool   \n",
      " 24  Team                23660 non-null  object \n",
      " 25  LapStartTime        23660 non-null  object \n",
      " 26  LapStartDate        23647 non-null  object \n",
      " 27  TrackStatus         23660 non-null  int64  \n",
      " 28  Position_left       23638 non-null  float64\n",
      " 29  Deleted             23660 non-null  bool   \n",
      " 30  DeletedReason       185 non-null    object \n",
      " 31  FastF1Generated     23660 non-null  bool   \n",
      " 32  IsAccurate          23660 non-null  bool   \n",
      " 33  Days_x              23660 non-null  int64  \n",
      " 34  Hours               23660 non-null  int64  \n",
      " 35  Minutes             23660 non-null  int64  \n",
      " 36  Time_y              23623 non-null  object \n",
      " 37  AirTemp             23623 non-null  float64\n",
      " 38  Humidity            23623 non-null  float64\n",
      " 39  Pressure            23623 non-null  float64\n",
      " 40  Rainfall            23623 non-null  object \n",
      " 41  TrackTemp           23623 non-null  float64\n",
      " 42  WindDirection       23623 non-null  float64\n",
      " 43  WindSpeed           23623 non-null  float64\n",
      " 44  Days_y              23623 non-null  float64\n",
      " 45  Date_left           23660 non-null  object \n",
      " 46  RPM                 23660 non-null  int64  \n",
      " 47  Speed               23660 non-null  int64  \n",
      " 48  nGear               23660 non-null  int64  \n",
      " 49  Throttle            23660 non-null  int64  \n",
      " 50  Brake               23660 non-null  bool   \n",
      " 51  DRS                 23660 non-null  int64  \n",
      " 52  Source_left         23660 non-null  object \n",
      " 53  Time_left           23660 non-null  object \n",
      " 54  SessionTime_left    23660 non-null  object \n",
      " 55  Days_left           23660 non-null  int64  \n",
      " 56  Date_right          23660 non-null  object \n",
      " 57  Status_left         23660 non-null  object \n",
      " 58  X                   23660 non-null  float64\n",
      " 59  Y                   23660 non-null  float64\n",
      " 60  Z                   23660 non-null  float64\n",
      " 61  Source_right        23660 non-null  object \n",
      " 62  Time_right          23660 non-null  object \n",
      " 63  SessionTime_right   23660 non-null  object \n",
      " 64  Days_right          23660 non-null  int64  \n",
      " 65  DriverNumber_right  23660 non-null  int64  \n",
      " 66  BroadcastName       23660 non-null  object \n",
      " 67  DriverId            23660 non-null  object \n",
      " 68  TeamName            23660 non-null  object \n",
      " 69  TeamColor           23660 non-null  object \n",
      " 70  TeamId              23660 non-null  object \n",
      " 71  FirstName           23660 non-null  object \n",
      " 72  LastName            23660 non-null  object \n",
      " 73  FullName            23660 non-null  object \n",
      " 74  HeadshotUrl         22224 non-null  object \n",
      " 75  CountryCode         19784 non-null  object \n",
      " 76  Position_right      23660 non-null  float64\n",
      " 77  ClassifiedPosition  23660 non-null  object \n",
      " 78  GridPosition        23660 non-null  float64\n",
      " 79  Q1                  0 non-null      float64\n",
      " 80  Q2                  0 non-null      float64\n",
      " 81  Q3                  0 non-null      float64\n",
      " 82  Time_left2          13379 non-null  object \n",
      " 83  Status_right        23660 non-null  object \n",
      " 84  Points              23660 non-null  float64\n",
      " 85  Time_right2         747 non-null    object \n",
      " 86  Status_left3        747 non-null    float64\n",
      " 87  Message             747 non-null    object \n",
      " 88  Days_left3          747 non-null    float64\n",
      " 89  Time                264 non-null    object \n",
      " 90  Status_right3       264 non-null    object \n",
      " 91  Days_right3         264 non-null    float64\n",
      " 92  Number_of_Laps      23660 non-null  int64  \n",
      " 93  Used_Tire_Compound  23660 non-null  object \n",
      " 94  Avg_Lap_Time        23648 non-null  object \n",
      " 95  Number_of_Stints    23660 non-null  int64  \n",
      "dtypes: bool(5), float64(27), int64(16), object(48)\n",
      "memory usage: 16.5+ MB\n"
     ]
    }
   ],
   "source": [
    "# Checking data summary\n",
    "merged_data.info()"
   ]
  },
  {
   "cell_type": "code",
   "execution_count": 4,
   "id": "3a1c7cac-1cca-494c-b21a-5b0b7765d619",
   "metadata": {},
   "outputs": [],
   "source": [
    "# Data Preprocessing\n",
    "# 1. Handling Missing Values\n",
    "# Drop columns with very high missingness and repeated data due to merge\n",
    "merged_data.drop(['Deleted', 'FastF1Generated', 'IsAccurate', 'Message', 'IsPersonalBest', 'Q1', 'Q2', 'Q3','PitOutTime', 'PitInTime', \n",
    "                  'DeletedReason', 'HeadshotUrl', 'Time_right2', 'Status_left3', 'Days_left3', 'Time', 'Status_right3', 'Days_right3',\n",
    "                 'Time_y', 'Date_left', 'Source_left', 'Time_left', 'SessionTime_left', 'Days_left', 'Date_right', 'Status_left', \n",
    "                  'Source_right', 'Time_right', 'SessionTime_right', 'Days_right', 'DriverNumber_right', 'BroadcastName', 'DriverId', \n",
    "                  'TeamName', 'TeamColor', 'TeamId', 'FirstName', 'LastName', 'FullName', 'CountryCode', 'Time_left2', 'Status_right', \n",
    "                   'LapStartDate', 'Days_x', 'Days_y'],\n",
    "                 axis=1, inplace=True)\n"
   ]
  },
  {
   "cell_type": "code",
   "execution_count": 5,
   "id": "37d378d9-870f-47c2-96aa-5a7ff7ab460e",
   "metadata": {},
   "outputs": [],
   "source": [
    "# Save the model ready dataframe to CSV\n",
    "merged_data.to_csv('modeldata.csv', index=False)"
   ]
  },
  {
   "cell_type": "code",
   "execution_count": 6,
   "id": "101ad9db-7863-4ddd-92ea-0423dec7f51a",
   "metadata": {},
   "outputs": [],
   "source": [
    "# ML MODELS\n",
    "from catboost import CatBoostRegressor, CatBoostClassifier\n",
    "from sklearn.ensemble import RandomForestRegressor, RandomForestClassifier\n",
    "from sklearn.model_selection import train_test_split\n",
    "from sklearn.metrics import mean_absolute_error, mean_squared_error, accuracy_score, r2_score\n",
    "from sklearn.linear_model import LinearRegression\n",
    "from sklearn.tree import DecisionTreeRegressor, DecisionTreeClassifier\n",
    "import xgboost as xgb\n",
    "from xgboost import XGBRegressor, XGBClassifier\n",
    "import lightgbm as lgb\n",
    "from lightgbm import LGBMClassifier"
   ]
  },
  {
   "cell_type": "code",
   "execution_count": 7,
   "id": "fbf37b3b-dc7b-4d68-9bfe-666d12d452fa",
   "metadata": {},
   "outputs": [
    {
     "name": "stdout",
     "output_type": "stream",
     "text": [
      "<class 'pandas.core.frame.DataFrame'>\n",
      "RangeIndex: 23660 entries, 0 to 23659\n",
      "Data columns (total 51 columns):\n",
      " #   Column              Non-Null Count  Dtype  \n",
      "---  ------              --------------  -----  \n",
      " 0   EventName           23660 non-null  object \n",
      " 1   Year                23660 non-null  int64  \n",
      " 2   Time_x              23660 non-null  object \n",
      " 3   Driver              23660 non-null  object \n",
      " 4   DriverNumber_left   23660 non-null  int64  \n",
      " 5   LapTime             23510 non-null  object \n",
      " 6   LapNumber           23660 non-null  float64\n",
      " 7   Stint               23660 non-null  float64\n",
      " 8   Sector1Time         23199 non-null  object \n",
      " 9   Sector2Time         23634 non-null  object \n",
      " 10  Sector3Time         23610 non-null  object \n",
      " 11  Sector1SessionTime  23147 non-null  object \n",
      " 12  Sector2SessionTime  23634 non-null  object \n",
      " 13  Sector3SessionTime  23610 non-null  object \n",
      " 14  SpeedI1             20305 non-null  float64\n",
      " 15  SpeedI2             23634 non-null  float64\n",
      " 16  SpeedFL             22932 non-null  float64\n",
      " 17  SpeedST             21208 non-null  float64\n",
      " 18  Compound            23660 non-null  object \n",
      " 19  TyreLife            23660 non-null  float64\n",
      " 20  FreshTyre           23660 non-null  bool   \n",
      " 21  Team                23660 non-null  object \n",
      " 22  LapStartTime        23660 non-null  object \n",
      " 23  TrackStatus         23660 non-null  int64  \n",
      " 24  Position_left       23638 non-null  float64\n",
      " 25  Hours               23660 non-null  int64  \n",
      " 26  Minutes             23660 non-null  int64  \n",
      " 27  AirTemp             23623 non-null  float64\n",
      " 28  Humidity            23623 non-null  float64\n",
      " 29  Pressure            23623 non-null  float64\n",
      " 30  Rainfall            23623 non-null  object \n",
      " 31  TrackTemp           23623 non-null  float64\n",
      " 32  WindDirection       23623 non-null  float64\n",
      " 33  WindSpeed           23623 non-null  float64\n",
      " 34  RPM                 23660 non-null  int64  \n",
      " 35  Speed               23660 non-null  int64  \n",
      " 36  nGear               23660 non-null  int64  \n",
      " 37  Throttle            23660 non-null  int64  \n",
      " 38  Brake               23660 non-null  bool   \n",
      " 39  DRS                 23660 non-null  int64  \n",
      " 40  X                   23660 non-null  float64\n",
      " 41  Y                   23660 non-null  float64\n",
      " 42  Z                   23660 non-null  float64\n",
      " 43  Position_right      23660 non-null  float64\n",
      " 44  ClassifiedPosition  23660 non-null  object \n",
      " 45  GridPosition        23660 non-null  float64\n",
      " 46  Points              23660 non-null  float64\n",
      " 47  Number_of_Laps      23660 non-null  int64  \n",
      " 48  Used_Tire_Compound  23660 non-null  object \n",
      " 49  Avg_Lap_Time        23648 non-null  object \n",
      " 50  Number_of_Stints    23660 non-null  int64  \n",
      "dtypes: bool(2), float64(20), int64(12), object(17)\n",
      "memory usage: 8.9+ MB\n"
     ]
    }
   ],
   "source": [
    "# Checking data summary\n",
    "merged_data.info()"
   ]
  },
  {
   "cell_type": "code",
   "execution_count": 8,
   "id": "a6f1096e-f42c-4b09-8b9e-3158a4a4802f",
   "metadata": {},
   "outputs": [
    {
     "name": "stderr",
     "output_type": "stream",
     "text": [
      "C:\\Users\\yunus\\AppData\\Local\\Temp\\ipykernel_19312\\3361040329.py:9: SettingWithCopyWarning: \n",
      "A value is trying to be set on a copy of a slice from a DataFrame.\n",
      "Try using .loc[row_indexer,col_indexer] = value instead\n",
      "\n",
      "See the caveats in the documentation: https://pandas.pydata.org/pandas-docs/stable/user_guide/indexing.html#returning-a-view-versus-a-copy\n",
      "  data_cleaned['Avg_Lap_Time'] = pd.to_timedelta(data_cleaned['Avg_Lap_Time']).dt.total_seconds()\n",
      "C:\\Users\\yunus\\AppData\\Local\\Temp\\ipykernel_19312\\3361040329.py:15: SettingWithCopyWarning: \n",
      "A value is trying to be set on a copy of a slice from a DataFrame.\n",
      "Try using .loc[row_indexer,col_indexer] = value instead\n",
      "\n",
      "See the caveats in the documentation: https://pandas.pydata.org/pandas-docs/stable/user_guide/indexing.html#returning-a-view-versus-a-copy\n",
      "  X['Driver'] = X['Driver'].astype('category')\n",
      "C:\\Users\\yunus\\AppData\\Local\\Temp\\ipykernel_19312\\3361040329.py:16: SettingWithCopyWarning: \n",
      "A value is trying to be set on a copy of a slice from a DataFrame.\n",
      "Try using .loc[row_indexer,col_indexer] = value instead\n",
      "\n",
      "See the caveats in the documentation: https://pandas.pydata.org/pandas-docs/stable/user_guide/indexing.html#returning-a-view-versus-a-copy\n",
      "  X['EventName'] = X['EventName'].astype('category')\n",
      "C:\\Users\\yunus\\AppData\\Local\\Temp\\ipykernel_19312\\3361040329.py:17: SettingWithCopyWarning: \n",
      "A value is trying to be set on a copy of a slice from a DataFrame.\n",
      "Try using .loc[row_indexer,col_indexer] = value instead\n",
      "\n",
      "See the caveats in the documentation: https://pandas.pydata.org/pandas-docs/stable/user_guide/indexing.html#returning-a-view-versus-a-copy\n",
      "  X['Year'] = X['Year'].astype('category')\n",
      "C:\\Users\\yunus\\AppData\\Local\\Temp\\ipykernel_19312\\3361040329.py:18: SettingWithCopyWarning: \n",
      "A value is trying to be set on a copy of a slice from a DataFrame.\n",
      "Try using .loc[row_indexer,col_indexer] = value instead\n",
      "\n",
      "See the caveats in the documentation: https://pandas.pydata.org/pandas-docs/stable/user_guide/indexing.html#returning-a-view-versus-a-copy\n",
      "  X['ClassifiedPosition'] = X['ClassifiedPosition'].astype('category')\n",
      "C:\\Users\\yunus\\AppData\\Local\\Temp\\ipykernel_19312\\3361040329.py:19: SettingWithCopyWarning: \n",
      "A value is trying to be set on a copy of a slice from a DataFrame.\n",
      "Try using .loc[row_indexer,col_indexer] = value instead\n",
      "\n",
      "See the caveats in the documentation: https://pandas.pydata.org/pandas-docs/stable/user_guide/indexing.html#returning-a-view-versus-a-copy\n",
      "  X['FreshTyre'] = X['FreshTyre'].astype('category')\n",
      "C:\\Users\\yunus\\AppData\\Local\\Temp\\ipykernel_19312\\3361040329.py:20: SettingWithCopyWarning: \n",
      "A value is trying to be set on a copy of a slice from a DataFrame.\n",
      "Try using .loc[row_indexer,col_indexer] = value instead\n",
      "\n",
      "See the caveats in the documentation: https://pandas.pydata.org/pandas-docs/stable/user_guide/indexing.html#returning-a-view-versus-a-copy\n",
      "  X['Brake'] = X['Brake'].astype('category')\n",
      "C:\\Users\\yunus\\AppData\\Local\\Temp\\ipykernel_19312\\3361040329.py:21: SettingWithCopyWarning: \n",
      "A value is trying to be set on a copy of a slice from a DataFrame.\n",
      "Try using .loc[row_indexer,col_indexer] = value instead\n",
      "\n",
      "See the caveats in the documentation: https://pandas.pydata.org/pandas-docs/stable/user_guide/indexing.html#returning-a-view-versus-a-copy\n",
      "  X['Rainfall'] = X['Rainfall'].astype('category')\n",
      "C:\\Users\\yunus\\AppData\\Local\\Temp\\ipykernel_19312\\3361040329.py:22: SettingWithCopyWarning: \n",
      "A value is trying to be set on a copy of a slice from a DataFrame.\n",
      "Try using .loc[row_indexer,col_indexer] = value instead\n",
      "\n",
      "See the caveats in the documentation: https://pandas.pydata.org/pandas-docs/stable/user_guide/indexing.html#returning-a-view-versus-a-copy\n",
      "  X['TrackStatus'] = X['TrackStatus'].astype('category')\n",
      "C:\\Users\\yunus\\AppData\\Local\\Temp\\ipykernel_19312\\3361040329.py:23: SettingWithCopyWarning: \n",
      "A value is trying to be set on a copy of a slice from a DataFrame.\n",
      "Try using .loc[row_indexer,col_indexer] = value instead\n",
      "\n",
      "See the caveats in the documentation: https://pandas.pydata.org/pandas-docs/stable/user_guide/indexing.html#returning-a-view-versus-a-copy\n",
      "  X['DRS'] = X['DRS'].astype('category')\n"
     ]
    }
   ],
   "source": [
    "# Selecting relevant columns for modeling\n",
    "target_columns = ['Number_of_Laps', 'Used_Tire_Compound', 'Avg_Lap_Time', 'Number_of_Stints']\n",
    "\n",
    "feature_columns = ['EventName', 'Driver', 'GridPosition', 'Year', 'TyreLife', 'FreshTyre', 'TrackStatus', 'Rainfall',\n",
    "                   'Speed', 'Throttle', 'Brake', 'DRS', 'ClassifiedPosition', 'AirTemp', 'Humidity', 'Pressure', 'TrackTemp', 'WindSpeed']\n",
    "\n",
    "# Cleaning data: dropping rows with missing target values and converting 'Avg_Lap_Time' to seconds\n",
    "data_cleaned = merged_data.dropna()\n",
    "data_cleaned['Avg_Lap_Time'] = pd.to_timedelta(data_cleaned['Avg_Lap_Time']).dt.total_seconds()\n",
    "\n",
    "# Splitting data for each target\n",
    "X = data_cleaned[feature_columns]\n",
    "\n",
    "# Convert categorical columns to category dtype\n",
    "X['Driver'] = X['Driver'].astype('category')\n",
    "X['EventName'] = X['EventName'].astype('category')\n",
    "X['Year'] = X['Year'].astype('category')\n",
    "X['ClassifiedPosition'] = X['ClassifiedPosition'].astype('category')\n",
    "X['FreshTyre'] = X['FreshTyre'].astype('category')\n",
    "X['Brake'] = X['Brake'].astype('category')\n",
    "X['Rainfall'] = X['Rainfall'].astype('category')\n",
    "X['TrackStatus'] = X['TrackStatus'].astype('category')\n",
    "X['DRS'] = X['DRS'].astype('category')\n",
    "\n",
    "# 'Driver', 'EventName', 'Year', 'ClassifiedPosition', 'FreshTyre', 'Brake', 'Rainfall', 'TrackStatus', 'DRS'\n",
    "\n",
    "# Splitting the data for each model\n",
    "y_laps = data_cleaned['Number_of_Laps']\n",
    "y_tires = data_cleaned['Used_Tire_Compound']\n",
    "y_avg_lap_time = data_cleaned['Avg_Lap_Time']\n",
    "y_stints = data_cleaned['Number_of_Stints']\n",
    "\n",
    "X_train_laps, X_test_laps, y_train_laps, y_test_laps = train_test_split(X, y_laps, test_size=0.2, random_state=42)\n",
    "X_train_tires, X_test_tires, y_train_tires, y_test_tires = train_test_split(X, y_tires, test_size=0.2, random_state=42)\n",
    "X_train_avg_lap_time, X_test_avg_lap_time, y_train_avg_lap_time, y_test_avg_lap_time = train_test_split(X, y_avg_lap_time, test_size=0.2, random_state=42)\n",
    "X_train_stints, X_test_stints, y_train_stints, y_test_stints = train_test_split(X, y_stints, test_size=0.2, random_state=42)"
   ]
  },
  {
   "cell_type": "code",
   "execution_count": 9,
   "id": "2c98764f-fee5-4ad0-a612-cb62b1cb415d",
   "metadata": {},
   "outputs": [
    {
     "name": "stdout",
     "output_type": "stream",
     "text": [
      "<class 'pandas.core.frame.DataFrame'>\n",
      "Index: 17249 entries, 1 to 23658\n",
      "Data columns (total 51 columns):\n",
      " #   Column              Non-Null Count  Dtype  \n",
      "---  ------              --------------  -----  \n",
      " 0   EventName           17249 non-null  object \n",
      " 1   Year                17249 non-null  int64  \n",
      " 2   Time_x              17249 non-null  object \n",
      " 3   Driver              17249 non-null  object \n",
      " 4   DriverNumber_left   17249 non-null  int64  \n",
      " 5   LapTime             17249 non-null  object \n",
      " 6   LapNumber           17249 non-null  float64\n",
      " 7   Stint               17249 non-null  float64\n",
      " 8   Sector1Time         17249 non-null  object \n",
      " 9   Sector2Time         17249 non-null  object \n",
      " 10  Sector3Time         17249 non-null  object \n",
      " 11  Sector1SessionTime  17249 non-null  object \n",
      " 12  Sector2SessionTime  17249 non-null  object \n",
      " 13  Sector3SessionTime  17249 non-null  object \n",
      " 14  SpeedI1             17249 non-null  float64\n",
      " 15  SpeedI2             17249 non-null  float64\n",
      " 16  SpeedFL             17249 non-null  float64\n",
      " 17  SpeedST             17249 non-null  float64\n",
      " 18  Compound            17249 non-null  object \n",
      " 19  TyreLife            17249 non-null  float64\n",
      " 20  FreshTyre           17249 non-null  bool   \n",
      " 21  Team                17249 non-null  object \n",
      " 22  LapStartTime        17249 non-null  object \n",
      " 23  TrackStatus         17249 non-null  int64  \n",
      " 24  Position_left       17249 non-null  float64\n",
      " 25  Hours               17249 non-null  int64  \n",
      " 26  Minutes             17249 non-null  int64  \n",
      " 27  AirTemp             17249 non-null  float64\n",
      " 28  Humidity            17249 non-null  float64\n",
      " 29  Pressure            17249 non-null  float64\n",
      " 30  Rainfall            17249 non-null  object \n",
      " 31  TrackTemp           17249 non-null  float64\n",
      " 32  WindDirection       17249 non-null  float64\n",
      " 33  WindSpeed           17249 non-null  float64\n",
      " 34  RPM                 17249 non-null  int64  \n",
      " 35  Speed               17249 non-null  int64  \n",
      " 36  nGear               17249 non-null  int64  \n",
      " 37  Throttle            17249 non-null  int64  \n",
      " 38  Brake               17249 non-null  bool   \n",
      " 39  DRS                 17249 non-null  int64  \n",
      " 40  X                   17249 non-null  float64\n",
      " 41  Y                   17249 non-null  float64\n",
      " 42  Z                   17249 non-null  float64\n",
      " 43  Position_right      17249 non-null  float64\n",
      " 44  ClassifiedPosition  17249 non-null  object \n",
      " 45  GridPosition        17249 non-null  float64\n",
      " 46  Points              17249 non-null  float64\n",
      " 47  Number_of_Laps      17249 non-null  int64  \n",
      " 48  Used_Tire_Compound  17249 non-null  object \n",
      " 49  Avg_Lap_Time        17249 non-null  float64\n",
      " 50  Number_of_Stints    17249 non-null  int64  \n",
      "dtypes: bool(2), float64(21), int64(12), object(16)\n",
      "memory usage: 6.6+ MB\n"
     ]
    }
   ],
   "source": [
    "# Checking data summary\n",
    "data_cleaned.info()"
   ]
  },
  {
   "cell_type": "code",
   "execution_count": 10,
   "id": "a024b545-8821-46cb-8519-48e2f23c9962",
   "metadata": {},
   "outputs": [],
   "source": [
    "cat_cols = ['Driver', 'EventName', 'Year', 'ClassifiedPosition', 'FreshTyre', 'Brake', 'Rainfall', 'TrackStatus', 'DRS']"
   ]
  },
  {
   "cell_type": "code",
   "execution_count": 11,
   "id": "04717aa3-fdd3-450b-9e65-4b91374ed6a3",
   "metadata": {},
   "outputs": [
    {
     "data": {
      "text/plain": [
       "3.715100858079041e-05"
      ]
     },
     "execution_count": 11,
     "metadata": {},
     "output_type": "execute_result"
    }
   ],
   "source": [
    "# Model 1: Predicting Number_of_Stints (Regression) - XGBoost\n",
    "model_stints_xgb = XGBRegressor(n_estimators= 3500,learning_rate= 0.05,max_depth= 5, objective='reg:squarederror', \n",
    "                              eval_metric= 'rmse', enable_categorical=True, random_state=42)\n",
    "model_stints_xgb.fit(X_train_stints, y_train_stints)\n",
    "y_pred_stints_xgb = model_stints_xgb.predict(X_test_stints)\n",
    "\n",
    "stints_mse_xgb = mean_squared_error(y_test_stints, y_pred_stints_xgb)\n",
    "stints_mse_xgb"
   ]
  },
  {
   "cell_type": "code",
   "execution_count": 220,
   "id": "8e029355-9835-4164-8bae-09cacff78efb",
   "metadata": {},
   "outputs": [
    {
     "data": {
      "text/plain": [
       "6.130215285626466e-05"
      ]
     },
     "execution_count": 220,
     "metadata": {},
     "output_type": "execute_result"
    }
   ],
   "source": [
    "# Model 1.2: Predicting Number_of_Stints (Regression) - LightGBM\n",
    "model_stints_lgbm = lgb.LGBMRegressor(n_estimators= 3500,learning_rate= 0.08,max_depth= 9, objective='regression', \n",
    "                              random_state=42, verbose=-1)\n",
    "model_stints_lgbm.fit(X_train_stints, y_train_stints)\n",
    "y_pred_stints_lgbm = model_stints_lgbm.predict(X_test_stints)\n",
    "\n",
    "stints_mse_lgbm = mean_squared_error(y_test_stints, y_pred_stints_lgbm)\n",
    "stints_mse_lgbm"
   ]
  },
  {
   "cell_type": "code",
   "execution_count": 13,
   "id": "4900c07f-8062-4e24-ae4b-46bb23e10d67",
   "metadata": {},
   "outputs": [
    {
     "name": "stdout",
     "output_type": "stream",
     "text": [
      "0:\tlearn: 0.7215556\ttotal: 159ms\tremaining: 9m 15s\n",
      "500:\tlearn: 0.1359065\ttotal: 11.8s\tremaining: 1m 10s\n",
      "1000:\tlearn: 0.0942985\ttotal: 23.7s\tremaining: 59.1s\n",
      "1500:\tlearn: 0.0797973\ttotal: 35.5s\tremaining: 47.3s\n",
      "2000:\tlearn: 0.0719597\ttotal: 47.1s\tremaining: 35.3s\n",
      "2500:\tlearn: 0.0658441\ttotal: 58.9s\tremaining: 23.5s\n",
      "3000:\tlearn: 0.0611871\ttotal: 1m 10s\tremaining: 11.8s\n",
      "3499:\tlearn: 0.0569347\ttotal: 1m 22s\tremaining: 0us\n"
     ]
    },
    {
     "data": {
      "text/plain": [
       "0.0015488171162580046"
      ]
     },
     "execution_count": 13,
     "metadata": {},
     "output_type": "execute_result"
    }
   ],
   "source": [
    "# Model 1.3: Predicting Number_of_Stints (Regression) - CatBoost\n",
    "model_stints_catboost = CatBoostRegressor(iterations= 3500,learning_rate= 0.05,depth= 5,objective='RMSE',\n",
    "            eval_metric= 'RMSE',verbose= 500,border_count=254,task_type='CPU',use_best_model=False)\n",
    "model_stints_catboost.fit(X_train_stints, y_train_stints, cat_features = cat_cols)\n",
    "y_pred_stints_catboost = model_stints_catboost.predict(X_test_stints)\n",
    "\n",
    "stints_mse_catboost = mean_squared_error(y_test_stints, y_pred_stints_catboost)\n",
    "stints_mse_catboost"
   ]
  },
  {
   "cell_type": "code",
   "execution_count": 230,
   "id": "5ed7f120-4a4e-4834-93fa-a016461216bc",
   "metadata": {},
   "outputs": [
    {
     "data": {
      "text/plain": [
       "0.9643478260869566"
      ]
     },
     "execution_count": 230,
     "metadata": {},
     "output_type": "execute_result"
    }
   ],
   "source": [
    "# Model 2: Predicting Used_Tire_Compound (Classification) - LightGBM\n",
    "\n",
    "# Define and train the LightGBM classifier\n",
    "model_tires_lgbm = LGBMClassifier(n_estimators= 3500,learning_rate= 0.08,max_depth= 5, objective='multiclass',random_state=42, \n",
    "                                  verbose=-1) # verbose=-1 disable warnings\n",
    "model_tires_lgbm.fit(X_train_tires, y_train_tires)\n",
    "\n",
    "# Make predictions\n",
    "y_pred_tires_lgbm = model_tires_lgbm.predict(X_test_tires)\n",
    "\n",
    "tires_accuracy_lgbm = accuracy_score(y_test_tires, y_pred_tires_lgbm)\n",
    "tires_accuracy_lgbm"
   ]
  },
  {
   "cell_type": "code",
   "execution_count": 81,
   "id": "55aeda2e-cd7d-456f-aa6a-58edf604ab04",
   "metadata": {},
   "outputs": [
    {
     "name": "stdout",
     "output_type": "stream",
     "text": [
      "0:\tlearn: 1.8523789\ttotal: 581ms\tremaining: 33m 51s\n",
      "500:\tlearn: 0.1552995\ttotal: 6m 14s\tremaining: 37m 19s\n",
      "1000:\tlearn: 0.0755135\ttotal: 12m 56s\tremaining: 32m 17s\n",
      "1500:\tlearn: 0.0449241\ttotal: 20m 1s\tremaining: 26m 39s\n",
      "2000:\tlearn: 0.0300849\ttotal: 27m 20s\tremaining: 20m 28s\n",
      "2500:\tlearn: 0.0219279\ttotal: 34m 54s\tremaining: 13m 56s\n",
      "3000:\tlearn: 0.0166036\ttotal: 41m 43s\tremaining: 6m 56s\n",
      "3499:\tlearn: 0.0132254\ttotal: 48m 17s\tremaining: 0us\n"
     ]
    },
    {
     "data": {
      "text/plain": [
       "0.9414492753623188"
      ]
     },
     "execution_count": 81,
     "metadata": {},
     "output_type": "execute_result"
    }
   ],
   "source": [
    "# Model 2.2: Predicting Used_Tire_Compound (Classification) - CatBoost\n",
    "\n",
    "# Define and train the CatBoost classifier\n",
    "model_tires_catboost = CatBoostClassifier(iterations= 3500,learning_rate= 0.08,depth= 9,objective='MultiClass',\n",
    "            eval_metric= 'MultiClass',verbose= 500,border_count=254,task_type='CPU',use_best_model=False)\n",
    "\n",
    "#iterations=1000, random_state=42, verbose=100\n",
    "model_tires_catboost.fit(X_train_tires, y_train_tires, cat_features=cat_cols)\n",
    "y_pred_tires_catboost = model_tires_catboost.predict(X_test_tires)\n",
    "\n",
    "tires_accuracy_catboost = accuracy_score(y_test_tires, y_pred_tires_catboost)\n",
    "tires_accuracy_catboost"
   ]
  },
  {
   "cell_type": "code",
   "execution_count": 16,
   "id": "3765b98b-b489-4246-904f-4035f09a6309",
   "metadata": {},
   "outputs": [
    {
     "data": {
      "text/plain": [
       "6.987340431963285"
      ]
     },
     "execution_count": 16,
     "metadata": {},
     "output_type": "execute_result"
    }
   ],
   "source": [
    "# Model 3: Predicting Number_of_Laps (Regression) - XGBoost\n",
    "model_laps_xgb = XGBRegressor(n_estimators= 3500,learning_rate= 0.05,max_depth= 5, objective='reg:squarederror', \n",
    "                              eval_metric= 'rmse', enable_categorical=True, random_state=42)\n",
    "# n_estimators= 3500,learning_rate= 0.05,max_depth= 5, objective='reg:squarederror', eval_metric= 'rmse', enable_categorical=True, random_state=42\n",
    "model_laps_xgb.fit(X_train_laps, y_train_laps)\n",
    "y_pred_laps_xgb = model_laps_xgb.predict(X_test_laps)\n",
    "\n",
    "laps_mse_xgb = mean_squared_error(y_test_laps, y_pred_laps_xgb)\n",
    "laps_mse_xgb"
   ]
  },
  {
   "cell_type": "code",
   "execution_count": 206,
   "id": "ae4654aa-0274-4fce-8d5c-d16313d17812",
   "metadata": {},
   "outputs": [
    {
     "data": {
      "text/plain": [
       "7.385198664031037"
      ]
     },
     "execution_count": 206,
     "metadata": {},
     "output_type": "execute_result"
    }
   ],
   "source": [
    "# Model 3.2: Predicting Number_of_Laps (Regression) - LightGBM\n",
    "model_laps_lgbm = lgb.LGBMRegressor(n_estimators= 3500,learning_rate= 0.07,max_depth= 9, objective='regression', metric='rmse',\n",
    "                              random_state=42, verbose=-1, num_leaves=45, subsample=0.8, colsample_bytree=0.9)\n",
    "model_laps_lgbm.fit(X_train_laps, y_train_laps)\n",
    "y_pred_laps_lgbm = model_laps_lgbm.predict(X_test_laps)\n",
    "\n",
    "laps_mse_lgbm = mean_squared_error(y_test_laps, y_pred_laps_lgbm)\n",
    "laps_mse_lgbm"
   ]
  },
  {
   "cell_type": "code",
   "execution_count": 80,
   "id": "ca625c04-d43f-4713-820a-f0e5b3885975",
   "metadata": {},
   "outputs": [
    {
     "name": "stdout",
     "output_type": "stream",
     "text": [
      "0:\tlearn: 14.2776231\ttotal: 61.1ms\tremaining: 3m 33s\n",
      "500:\tlearn: 2.9159303\ttotal: 28.5s\tremaining: 2m 50s\n",
      "1000:\tlearn: 1.9527293\ttotal: 57.7s\tremaining: 2m 24s\n",
      "1500:\tlearn: 1.4724966\ttotal: 1m 27s\tremaining: 1m 56s\n",
      "2000:\tlearn: 1.1565328\ttotal: 1m 56s\tremaining: 1m 27s\n",
      "2500:\tlearn: 0.9311863\ttotal: 2m 26s\tremaining: 58.5s\n",
      "3000:\tlearn: 0.7715122\ttotal: 2m 56s\tremaining: 29.3s\n",
      "3499:\tlearn: 0.6484202\ttotal: 3m 25s\tremaining: 0us\n"
     ]
    },
    {
     "data": {
      "text/plain": [
       "8.374876171248118"
      ]
     },
     "execution_count": 80,
     "metadata": {},
     "output_type": "execute_result"
    }
   ],
   "source": [
    "# Model 3.3: Predicting Number_of_Laps (Regression) - CatBoost\n",
    "model_laps_catboost = CatBoostRegressor(iterations= 3500,learning_rate= 0.08,depth= 9,objective='RMSE',\n",
    "            eval_metric= 'RMSE',verbose= 500,border_count=254,task_type='CPU',use_best_model=False)\n",
    "model_laps_catboost.fit(X_train_laps, y_train_laps, cat_features=cat_cols)\n",
    "y_pred_laps_catboost = model_laps_catboost.predict(X_test_laps)\n",
    "\n",
    "laps_mse_catboost = mean_squared_error(y_test_laps, y_pred_laps_catboost)\n",
    "laps_mse_catboost"
   ]
  },
  {
   "cell_type": "code",
   "execution_count": 78,
   "id": "5a6bf47f-3b02-433c-8b2f-f44a621698d9",
   "metadata": {},
   "outputs": [
    {
     "data": {
      "text/plain": [
       "0.566850452081473"
      ]
     },
     "execution_count": 78,
     "metadata": {},
     "output_type": "execute_result"
    }
   ],
   "source": [
    "# Model 4: Predicting Avg_Lap_Time (Regression) - XGBoost\n",
    "model_avg_lap_time_xgb = XGBRegressor(n_estimators= 3500,learning_rate= 0.05,max_depth= 5, objective='reg:squarederror', \n",
    "                              eval_metric= 'rmse', enable_categorical=True, random_state=42)\n",
    "model_avg_lap_time_xgb.fit(X_train_avg_lap_time, y_train_avg_lap_time)\n",
    "y_pred_avg_lap_time_xgb = model_avg_lap_time_xgb.predict(X_test_avg_lap_time)\n",
    "\n",
    "avg_lap_time_mse_xgb = mean_squared_error(y_test_avg_lap_time, y_pred_avg_lap_time_xgb)\n",
    "avg_lap_time_mse_xgb"
   ]
  },
  {
   "cell_type": "code",
   "execution_count": 178,
   "id": "ea1b0cc7-ea81-4a2b-bd5d-5a4cc53a72a0",
   "metadata": {},
   "outputs": [
    {
     "data": {
      "text/plain": [
       "0.6029215315678983"
      ]
     },
     "execution_count": 178,
     "metadata": {},
     "output_type": "execute_result"
    }
   ],
   "source": [
    "# Model 4.2: Predicting Avg_Lap_Time (Regression) - LightGBM\n",
    "model_avg_lap_time_lgbm = lgb.LGBMRegressor(n_estimators= 3500,learning_rate= 0.08,max_depth= 9, objective='regression', metric='rmse',\n",
    "                              random_state=42, verbose=-1, num_leaves=45, subsample=0.6, colsample_bytree=0.9)\n",
    "model_avg_lap_time_lgbm.fit(X_train_avg_lap_time, y_train_avg_lap_time)\n",
    "y_pred_avg_lap_time_lgbm = model_avg_lap_time_lgbm.predict(X_test_avg_lap_time)\n",
    "\n",
    "avg_lap_time_mse_lgbm = mean_squared_error(y_test_avg_lap_time, y_pred_avg_lap_time_lgbm)\n",
    "avg_lap_time_mse_lgbm"
   ]
  },
  {
   "cell_type": "code",
   "execution_count": 74,
   "id": "43d9f7f9-a8fb-4c6b-b516-6659915bb3ee",
   "metadata": {},
   "outputs": [
    {
     "name": "stdout",
     "output_type": "stream",
     "text": [
      "0:\tlearn: 8.9189860\ttotal: 55.1ms\tremaining: 3m 12s\n",
      "500:\tlearn: 0.6157220\ttotal: 27.6s\tremaining: 2m 45s\n",
      "1000:\tlearn: 0.3622087\ttotal: 1m 1s\tremaining: 2m 34s\n",
      "1500:\tlearn: 0.2511445\ttotal: 1m 30s\tremaining: 2m\n",
      "2000:\tlearn: 0.1895521\ttotal: 2m\tremaining: 1m 29s\n",
      "2500:\tlearn: 0.1509009\ttotal: 2m 29s\tremaining: 59.9s\n",
      "3000:\tlearn: 0.1238245\ttotal: 3m\tremaining: 30s\n",
      "3499:\tlearn: 0.1025507\ttotal: 3m 29s\tremaining: 0us\n"
     ]
    },
    {
     "data": {
      "text/plain": [
       "0.5919152330647612"
      ]
     },
     "execution_count": 74,
     "metadata": {},
     "output_type": "execute_result"
    }
   ],
   "source": [
    "# Model 4.3: Predicting Avg_Lap_Time (Regression) - CatBoost\n",
    "model_avg_lap_time_catboost = CatBoostRegressor(iterations= 3500,learning_rate= 0.08,depth= 9,objective='RMSE',\n",
    "            eval_metric= 'RMSE',verbose= 500,border_count=254,task_type='CPU',use_best_model=False)\n",
    "model_avg_lap_time_catboost.fit(X_train_avg_lap_time, y_train_avg_lap_time, cat_features=cat_cols)\n",
    "y_pred_avg_lap_time_catboost = model_avg_lap_time_catboost.predict(X_test_avg_lap_time)\n",
    "\n",
    "avg_lap_time_mse_catboost = mean_squared_error(y_test_avg_lap_time, y_pred_avg_lap_time_catboost)\n",
    "avg_lap_time_mse_catboost"
   ]
  },
  {
   "cell_type": "code",
   "execution_count": 232,
   "id": "1a5b86fd-720e-4968-8985-fa33f29b8e54",
   "metadata": {},
   "outputs": [
    {
     "data": {
      "text/plain": [
       "['model_avg_lap_time.pkl']"
      ]
     },
     "execution_count": 232,
     "metadata": {},
     "output_type": "execute_result"
    }
   ],
   "source": [
    "# Saving the models\n",
    "import joblib\n",
    "\n",
    "joblib.dump(model_stints_xgb, 'model_stints.pkl')\n",
    "joblib.dump(model_tires_lgbm, 'model_tires.pkl')\n",
    "joblib.dump(model_laps_xgb, 'model_laps.pkl')\n",
    "joblib.dump(model_avg_lap_time_xgb, 'model_avg_lap_time.pkl')"
   ]
  },
  {
   "cell_type": "code",
   "execution_count": 236,
   "id": "ba4a2d22-df97-4e7f-ba46-dfc304f4e932",
   "metadata": {},
   "outputs": [],
   "source": [
    "# load the models \n",
    "loaded_model_stints = joblib.load('model_stints.pkl')\n",
    "loaded_model_tires = joblib.load('model_tires.pkl')\n",
    "loaded_model_laps = joblib.load('model_laps.pkl')\n",
    "loaded_model_avg_lap_time = joblib.load('model_avg_lap_time.pkl')"
   ]
  },
  {
   "cell_type": "code",
   "execution_count": 24,
   "id": "6d020581-e519-4b28-bbb4-aa075ad23fbf",
   "metadata": {},
   "outputs": [
    {
     "data": {
      "text/plain": [
       "(array(['Bahrain Grand Prix', 'Saudi Arabian Grand Prix',\n",
       "        'Australian Grand Prix', 'Japanese Grand Prix',\n",
       "        'Chinese Grand Prix', 'Miami Grand Prix',\n",
       "        'Emilia Romagna Grand Prix', 'Monaco Grand Prix',\n",
       "        'Canadian Grand Prix', 'Spanish Grand Prix', 'Austrian Grand Prix',\n",
       "        'British Grand Prix', 'Hungarian Grand Prix', 'Belgian Grand Prix',\n",
       "        'Dutch Grand Prix', 'Mexican Grand Prix'], dtype=object),\n",
       " array(['VER', 'PER', 'SAI', 'LEC', 'RUS', 'NOR', 'HAM', 'PIA', 'ALO',\n",
       "        'STR', 'ZHO', 'MAG', 'RIC', 'TSU', 'ALB', 'HUL', 'OCO', 'GAS',\n",
       "        'BOT', 'SAR', 'BEA', 'VAN', 'HAR', 'SIR', 'VET', 'RAI', 'GRO',\n",
       "        'ERI', 'KVY', 'GIO', 'KUB', 'LAT', 'MAZ', 'MSC'], dtype=object),\n",
       " array([ 1.,  5.,  4.,  2.,  3.,  7.,  9.,  8.,  6., 12., 17., 15., 14.,\n",
       "        11., 13., 10., 19., 20., 16., 18.,  0.]),\n",
       " array([2024, 2018, 2019, 2021, 2022, 2023], dtype=int64))"
      ]
     },
     "execution_count": 24,
     "metadata": {},
     "output_type": "execute_result"
    }
   ],
   "source": [
    "data_cleaned['EventName'].unique(), data_cleaned['Driver'].unique(), data_cleaned['GridPosition'].unique(), data_cleaned['Year'].unique()"
   ]
  },
  {
   "cell_type": "code",
   "execution_count": 25,
   "id": "a154d170-da89-42e7-9345-f27fb5ed80bb",
   "metadata": {},
   "outputs": [
    {
     "data": {
      "text/plain": [
       "'\\nCurrent Formula 1 Drivers (2024 season):\\nVER – Max Verstappen\\nPER – Sergio Pérez\\nSAI – Carlos Sainz\\nLEC – Charles Leclerc\\nRUS – George Russell\\nNOR – Lando Norris\\nHAM – Lewis Hamilton\\nPIA – Oscar Piastri\\nALO – Fernando Alonso\\nSTR – Lance Stroll\\nZHO – Zhou Guanyu\\nMAG – Kevin Magnussen\\nRIC – Daniel Ricciardo\\nTSU – Yuki Tsunoda\\nALB – Alex Albon\\nHUL – Nico Hülkenberg\\nOCO – Esteban Ocon\\nGAS – Pierre Gasly\\nBOT – Valtteri Bottas\\nSAR – Logan Sargeant\\n'"
      ]
     },
     "execution_count": 25,
     "metadata": {},
     "output_type": "execute_result"
    }
   ],
   "source": [
    "\"\"\"\n",
    "Current Formula 1 Drivers (2024 season):\n",
    "VER – Max Verstappen\n",
    "PER – Sergio Pérez\n",
    "SAI – Carlos Sainz\n",
    "LEC – Charles Leclerc\n",
    "RUS – George Russell\n",
    "NOR – Lando Norris\n",
    "HAM – Lewis Hamilton\n",
    "PIA – Oscar Piastri\n",
    "ALO – Fernando Alonso\n",
    "STR – Lance Stroll\n",
    "ZHO – Zhou Guanyu\n",
    "MAG – Kevin Magnussen\n",
    "RIC – Daniel Ricciardo\n",
    "TSU – Yuki Tsunoda\n",
    "ALB – Alex Albon\n",
    "HUL – Nico Hülkenberg\n",
    "OCO – Esteban Ocon\n",
    "GAS – Pierre Gasly\n",
    "BOT – Valtteri Bottas\n",
    "SAR – Logan Sargeant\n",
    "\"\"\""
   ]
  },
  {
   "cell_type": "code",
   "execution_count": 26,
   "id": "26123555-2569-433e-90f1-8c18514e58d8",
   "metadata": {},
   "outputs": [
    {
     "data": {
      "text/plain": [
       "(array([ 5.,  6.,  8., 10., 13., 19.,  1.,  2.,  4., 11., 16., 18.,  3.,\n",
       "         9., 15., 17.,  7., 14., 20., 21., 22., 23., 12., 24., 25., 26.,\n",
       "        27., 28., 29., 30., 31., 32., 33., 34., 35., 36., 37., 38., 39.,\n",
       "        40., 41., 42., 43., 44., 45., 46., 47., 48., 50., 49., 51., 52.,\n",
       "        53., 54., 56., 57., 58., 59., 60., 61., 62., 63., 64., 65., 66.,\n",
       "        67., 68., 69., 70., 71., 72., 73., 74., 75., 76., 77., 55., 78.]),\n",
       " array([False,  True]),\n",
       " array([   1,   12,   21,   41,   24,  126,    6, 1267,   71,  671,   26,\n",
       "        2671,    4,  124,   64,   16,  167,  412, 2167,   67], dtype=int64),\n",
       " array([False, True], dtype=object))"
      ]
     },
     "execution_count": 26,
     "metadata": {},
     "output_type": "execute_result"
    }
   ],
   "source": [
    "data_cleaned['TyreLife'].unique(), data_cleaned['FreshTyre'].unique(), data_cleaned['TrackStatus'].unique(), data_cleaned['Rainfall'].unique()"
   ]
  },
  {
   "cell_type": "code",
   "execution_count": 27,
   "id": "86b6806b-a54d-474a-a45e-5c10e89e35b8",
   "metadata": {},
   "outputs": [
    {
     "data": {
      "text/plain": [
       "(array([282, 235, 224, 202, 142, 208, 205, 262, 218, 278, 161, 144, 200,\n",
       "         87, 193,  83, 177, 248, 265, 285, 247, 169, 155, 258, 204, 210,\n",
       "        182,  89, 281, 295, 233, 279, 192, 260, 273, 240, 250, 259, 245,\n",
       "        263, 293, 106, 199, 242, 246, 133,  77, 160, 122, 219,  90, 146,\n",
       "        203, 226, 215, 167, 143,  85, 288, 272, 238, 261, 251, 179, 101,\n",
       "        254, 187, 253, 287, 286, 190, 175, 178, 134, 236, 188, 163, 128,\n",
       "        294, 216, 231, 117, 197, 120, 104, 211, 234, 274, 277, 292, 257,\n",
       "        118, 244,  80, 166, 283, 172, 139, 267, 276, 291, 151, 168, 113,\n",
       "        147, 138,  86, 176, 189, 137,  92, 280, 230, 119,  73, 221,  93,\n",
       "        165, 132, 275, 156, 173, 256,  71, 131,  81, 180, 225,  94, 298,\n",
       "        129, 154, 252, 266, 130, 290, 268, 184, 127,  84,  76, 159, 209,\n",
       "        237, 227, 206, 150, 223, 158, 110, 153, 162, 243, 171, 183, 212,\n",
       "        112, 270,  97, 241,  88, 196, 140, 228, 152, 114, 222, 108, 181,\n",
       "        164,  72, 141, 232,  79, 249, 239, 170, 229, 214,  69, 201, 271,\n",
       "        174, 186, 269,  67, 284,  70, 220, 264, 125, 194, 217,  78, 148,\n",
       "        195,  74, 185,  91,  95,  75, 115, 103, 121, 191, 297,  68, 136,\n",
       "        306, 300, 289, 310, 309, 311, 318, 313, 314, 307, 111, 323, 327,\n",
       "        116, 157, 301, 326, 299, 303, 304, 123, 308,  98,  99, 312, 322,\n",
       "        324, 330, 302, 305, 332, 149, 325, 213, 255, 145, 316, 109, 319,\n",
       "        315, 317, 198, 296, 321, 102, 329, 320, 105, 331, 207, 126, 124,\n",
       "         96, 107,  63,  65,  66,  82,  64,  62,  60, 100,  57,  47,  61,\n",
       "         36,  58,  55,  59, 135, 338, 328,  56,  52,  54, 337, 335, 334,\n",
       "        342, 336, 333, 339,  41,  49,  51,  53,  42,  43,  46,  50,  44,\n",
       "         30,  24,  29,  48,  32,  26,  27, 340,  39,  40], dtype=int64),\n",
       " array([100,   0,  39,  97,  46,  61,  54,  58,  63,  85,  79,  91,   4,\n",
       "         99,   2,  87,   1,  31,  10,   3,  78,   5,  55,  69,  57,  73,\n",
       "         89,  86,  94,  36,  64,  16,  98,  37,  44,  76,  14,  83,  84,\n",
       "         28,  82,  60,  53,  19,  88,  51,  30,  96,  68,  43,  45,  72,\n",
       "         48,  70,  20,  50,  22,  24,  95,  40,  62,  80,  32,  12,  59,\n",
       "         71,  26,  74,  67,  47,  17,  52,  77,   6,  92,  49,   7,  65,\n",
       "         41,  18,  42,   8,  75,  35,  21,  81,  15,  23,  38,  56,  90,\n",
       "         25,   9,  27,  34,  93,  29,  13,  11], dtype=int64),\n",
       " array([False,  True]),\n",
       " array([ 0,  8, 14, 12,  1, 10,  2,  9], dtype=int64))"
      ]
     },
     "execution_count": 27,
     "metadata": {},
     "output_type": "execute_result"
    }
   ],
   "source": [
    "data_cleaned['Speed'].unique(), data_cleaned['Throttle'].unique(), data_cleaned['Brake'].unique(), data_cleaned['DRS'].unique()"
   ]
  },
  {
   "cell_type": "code",
   "execution_count": 28,
   "id": "b4e322fe-c1b0-479b-988a-c4dd6cd96218",
   "metadata": {},
   "outputs": [
    {
     "data": {
      "text/plain": [
       "(array(['1', '2', '3', '4', '5', '6', '7', '8', '9', '10', '11', '12',\n",
       "        '13', '14', '15', '16', '17', '18', '19', '20', 'R', 'D'],\n",
       "       dtype=object),\n",
       " array([18.3, 18.2, 18.1, 18. , 17.9, 17.8, 17.6, 17.7, 25.4, 25.6, 25.7,\n",
       "        25.5, 25.3, 20.5, 20.6, 20.7, 20.8, 20.9, 21. , 21.1, 21.4, 21.3,\n",
       "        21.2, 21.5, 21.8, 21.7, 21.6, 21.9, 22. , 22.5, 22.3, 22.1, 20.3,\n",
       "        20.1, 19.8, 19.5, 22.4, 22.2, 20.4, 20. , 19.7, 19.6, 19.9, 18.7,\n",
       "        18.8, 19. , 18.9, 18.6, 18.5, 18.4, 28.6, 28.7, 28.9, 29. , 28.8,\n",
       "        28.5, 28.4, 28.2, 28.1, 28.3, 27.9, 28. , 25.1, 25. , 24.9, 24.8,\n",
       "        25.2, 25.8, 25.9, 24.7, 26. , 16.3, 16.2, 16. , 15.9, 16.5, 17. ,\n",
       "        17.3, 17.5, 17.4, 17.2, 17.1, 19.1, 16.1, 16.8, 24.1, 23.9, 24. ,\n",
       "        24.3, 24.2, 24.4, 23.8, 24.6, 24.5, 23.7, 23.6, 29.2, 29.3, 29.4,\n",
       "        29.5, 29.6, 29.7, 29.8, 29.9, 30. , 30.2, 30.3, 30.4, 30.6, 30.1,\n",
       "        30.5, 16.4, 16.7, 16.6, 15.6, 15.2, 15.1, 15. , 14.9, 14.6, 14.5,\n",
       "        14.8, 15.3, 15.4, 15.5, 15.7, 15.8, 14.7, 29.1, 19.3, 19.2, 19.4,\n",
       "        22.7, 22.9, 23.2, 23. , 23.5, 23.3, 23.4, 23.1, 22.6, 22.8, 26.5,\n",
       "        26.6, 26.8, 26.9, 26.7, 26.4, 26.3, 26.2, 26.1]))"
      ]
     },
     "execution_count": 28,
     "metadata": {},
     "output_type": "execute_result"
    }
   ],
   "source": [
    "data_cleaned['ClassifiedPosition'].unique(), data_cleaned['AirTemp'].unique()"
   ]
  },
  {
   "cell_type": "code",
   "execution_count": 29,
   "id": "185b9418-9317-484c-abd9-707f81dbde14",
   "metadata": {},
   "outputs": [
    {
     "data": {
      "text/plain": [
       "(array([49. , 50. , 51. , 62. , 61. , 63. , 64. , 65. , 66. , 45. , 44. ,\n",
       "        43. , 42. , 37. , 39. , 40. , 38. , 47. , 48. , 52. , 56. , 57. ,\n",
       "        41. , 46. , 53. , 54. , 55. , 67. , 68. , 59. , 58. , 60. , 75. ,\n",
       "        76. , 78. , 77. , 80. , 79. , 72. , 74. , 73. , 70. , 71. , 69. ,\n",
       "        36. , 35. , 34. , 33. , 32. , 53.2, 53.4, 52.8, 50.1, 49.8, 49.1,\n",
       "        48.5, 48.3, 47.9, 47.5, 47.1, 46.7, 46.9, 46.3, 47.4, 48.4, 46.4,\n",
       "        46.5, 46.8, 45.7, 45.9, 46.1, 45.4, 45.2, 54.2, 47.8, 49.4, 49.6,\n",
       "        47.7, 44.8, 45.5, 46.6, 46.2, 45.6, 44.9, 44.7, 45.3, 44.6, 43.9,\n",
       "        43.6, 42.1, 44.5, 45.1, 47.3, 47.6, 43.8, 43.1, 44.2, 44.1, 44.4,\n",
       "        47.2, 42.9, 43.5, 31.2, 30.5, 31. , 31.1, 31.9, 32.1, 31.6, 32.4,\n",
       "        31.5, 30.8, 31.8, 32.6, 31.7, 31.3, 31.4, 30.7, 30.6, 30. , 30.1,\n",
       "        29.9, 30.4, 29.4, 29.2, 28.2, 28.5, 27.7, 27.9, 28.8, 28.1, 27.8,\n",
       "        28. , 27.3, 29.8, 29.6, 28.3, 27.6, 30.9, 27.4, 29.1, 32.9, 26. ,\n",
       "        27. , 25. , 23. , 22. , 24. , 21. , 20. , 19. , 18. ]),\n",
       " array([1017.1, 1017. , 1017.2, 1017.3, 1017.4, 1017.5, 1012.6, 1012.8,\n",
       "        1012.9, 1013. , 1013.1, 1013.2, 1012.7, 1020.8, 1020.7, 1020.6,\n",
       "        1020.5, 1020.4, 1020.3, 1020.2, 1020.1, 1020. , 1019.9, 1019.8,\n",
       "        1012.1, 1012.2, 1012.3, 1012.4, 1012.5, 1011.5, 1011.4, 1011.3,\n",
       "        1011.2, 1011.6, 1016.3, 1016.5, 1016.4, 1016.2, 1016.6, 1016.7,\n",
       "        1006.9, 1006.8, 1006.6, 1006.7, 1006.5, 1006.4, 1006.3, 1006.2,\n",
       "        1006.1, 1006. , 1018.9, 1018.8, 1018.7, 1018.6, 1018.5, 1018.4,\n",
       "        1018.3,  996.3,  996.2,  996.4,  996.1,  996. , 1001.4, 1001.3,\n",
       "        1001.2, 1001.1, 1001.5, 1001. ,  933. ,  932.9,  932.8,  932.7,\n",
       "         932.6,  991.9,  992. ,  991.8,  992.1,  992.2,  992.3,  992.4,\n",
       "         992.5,  992.6,  981.7,  981.6,  981.5,  981.4,  978.1,  978.2,\n",
       "         978. ,  977.9,  978.3,  977.8,  784.7,  784.6,  784. ,  783.9,\n",
       "         783.8,  783.7,  783.6,  783.5,  783.4,  783.3,  781. ,  780.9,\n",
       "         780.8,  780.7,  780.6,  780.5,  780.4,  780.3,  780.2,  780.1,\n",
       "         780. ,  779.9,  779.8,  779.7,  784.4,  784.3,  784.2,  784.1,\n",
       "         783.2,  783.1,  779.5,  779.4,  779.2,  778.9,  778.7,  778.5,\n",
       "         779. ]),\n",
       " array([23.8, 23.5, 23.7, 23.2, 23.3, 23.1, 23. , 22.9, 22.8, 22.7, 22.6,\n",
       "        22.4, 22.3, 22. , 21.9, 23.6, 23.4, 22.5, 22.2, 22.1, 31.7, 31.5,\n",
       "        31.4, 31.6, 30.9, 30.8, 31.3, 31.2, 31.1, 30.4, 30.7, 30.2, 30. ,\n",
       "        30.3, 30.6, 31. , 29.9, 29.8, 39. , 39.3, 39.1, 38.9, 39.2, 38.6,\n",
       "        38.7, 38.4, 38.5, 38.2, 38. , 37.9, 38.1, 37.5, 37.2, 37.4, 37.6,\n",
       "        38.8, 37.7, 36.9, 37.1, 36.7, 34.8, 34.6, 34.5, 34.3, 34.4, 35.6,\n",
       "        36. , 35.7, 36.5, 35.1, 33.3, 33. , 36.6, 36.1, 35. , 35.3, 36.2,\n",
       "        36.4, 35.5, 34.2, 34. , 33.1, 32.6, 32.5, 31.8, 32. , 32.2, 31.9,\n",
       "        36.3, 35.2, 32.7, 34.9, 32.3, 32.9, 37.8, 35.4, 30.5, 30.1, 29.7,\n",
       "        29.6, 29.5, 29.4, 29.2, 28.9, 29.1, 28.8, 28.7, 28.5, 28.3, 28.4,\n",
       "        27.8, 27.6, 27.4, 27.5, 27.3, 27.7, 27.9, 28. , 28.2, 28.1, 43.5,\n",
       "        44.2, 45.4, 45.5, 46.4, 46.8, 46.5, 44.7, 45.2, 47.5, 44.5, 45.7,\n",
       "        45.6, 44.6, 42.1, 42.6, 42.8, 42.3, 40.2, 41.6, 43.2, 41.2, 41. ,\n",
       "        40.6, 39.8, 40.3, 41.3, 45.1, 46.1, 44.4, 43.6, 41.8, 40.7, 41.1,\n",
       "        42.4, 47.4, 41.9, 40.9, 40.4, 42.7, 45.3, 41.7, 40.5, 40.1, 39.6,\n",
       "        39.4, 42. , 42.2, 43. , 42.5, 41.5, 39.5, 39.7, 42.9, 49.2, 48.8,\n",
       "        48.2, 48.7, 48. , 47.9, 47.3, 47.2, 47.1, 46. , 46.7, 46.6, 45.8,\n",
       "        45.9, 46.3, 44.8, 43.8, 43.7, 40.8, 20.6, 20. , 19.9, 20.3, 20.5,\n",
       "        24.5, 25.3, 25.7, 25.8, 25.9, 26.3, 26.5, 26.7, 26.6, 27. , 26.9,\n",
       "        21.7, 21.5, 21.3, 21.2, 23.9, 26.4, 26.8, 26. , 20.1, 24.8, 26.1,\n",
       "        24.3, 24.9, 27.1, 27.2, 24.4, 25.2, 41.4, 39.9, 38.3, 40. , 48.1,\n",
       "        49. , 48.6, 47.6, 47.8, 48.3, 45. , 44.3, 47.7, 46.2, 44.1, 44.9,\n",
       "        44. , 43.9, 48.4, 46.9, 24. , 24.2, 25.4, 25.6, 24.6, 21. , 20.7,\n",
       "        21.4, 24.7, 25. , 24.1, 21.1, 20.9, 25.5, 43.4, 47. , 43.3, 43.1,\n",
       "        32.1, 32.4, 33.4, 36.8, 34.7, 32.8, 37. , 37.3, 48.5, 49.1, 48.9]),\n",
       " array([1.5, 1. , 1.1, 0.5, 0.4, 0. , 0.6, 0.7, 0.3, 0.8, 0.9, 1.2, 1.6,\n",
       "        1.3, 1.7, 1.4, 1.8, 2. , 1.9, 2.2, 4.2, 3.1, 3.5, 2.6, 2.7, 3.3,\n",
       "        2.5, 2.1, 3. , 2.4, 3.6, 4.1, 3.2, 2.3, 2.8, 2.9, 3.7, 3.4, 3.9,\n",
       "        4.4, 3.8, 4. , 5.2, 5. , 4.3, 4.7, 4.9, 5.6, 4.6, 4.8, 4.5, 5.5,\n",
       "        5.9, 5.4, 5.1, 5.8, 5.3, 6.2, 5.7, 6. , 0.2, 0.1]))"
      ]
     },
     "execution_count": 29,
     "metadata": {},
     "output_type": "execute_result"
    }
   ],
   "source": [
    "data_cleaned['Humidity'].unique(), data_cleaned['Pressure'].unique(), data_cleaned['TrackTemp'].unique(), data_cleaned['WindSpeed'].unique()"
   ]
  },
  {
   "cell_type": "code",
   "execution_count": 238,
   "id": "6ad12836-708b-49ba-8f3d-58291cedefcb",
   "metadata": {},
   "outputs": [],
   "source": [
    "# Test inputs to make predictions (example inputs)\n",
    "test_input = pd.DataFrame({\n",
    "    'EventName': ['Mexican Grand Prix'],     # Categorical - event name\n",
    "    'Driver': ['NOR'],                       # Categorical - driver name\n",
    "    'GridPosition': [10],                     # Integer - starting position\n",
    "    'Year': [2024],                          # Categorical - race year\n",
    "    'TyreLife': [10],                         # Integer - tire age in laps\n",
    "    'FreshTyre': ['False'],                   # Boolean - fresh tires (True means fresh)\n",
    "    'TrackStatus': [2671],                      # Categorical - track status (1: clear)\n",
    "    'Rainfall': ['True'],                   # Boolean - rainfall (True means rainy)\n",
    "    'Speed': [285.0],                        # Float - car speed in km/h\n",
    "    'Throttle': [85],                        # Integer - throttle percentage\n",
    "    'Brake': ['False'],                       # Boolean - brake applied (False: no)\n",
    "    'DRS': [1],                              # Categorical - DRS active (1: yes)\n",
    "    'ClassifiedPosition': [1],               # Categorical - current race position\n",
    "    'AirTemp': [30],                       # Float - air temperature in Celsius\n",
    "    'Humidity': [80.0],                      # Float - humidity percentage\n",
    "    'Pressure': [990.0],                    # Float - air pressure in hPa\n",
    "    'TrackTemp': [35],                     # Float - track temperature in Celsius\n",
    "    'WindSpeed': [1]                       # Float - wind speed in km/h\n",
    "})\n",
    "\n",
    "# Convert categorical columns to 'category' dtype\n",
    "test_input['Driver'] = test_input['Driver'].astype('category')\n",
    "test_input['EventName'] = test_input['EventName'].astype('category')\n",
    "test_input['ClassifiedPosition'] = test_input['ClassifiedPosition'].astype('category')\n",
    "test_input['FreshTyre'] = test_input['FreshTyre'].astype('category')\n",
    "test_input['Brake'] = test_input['Brake'].astype('category')\n",
    "test_input['Rainfall'] = test_input['Rainfall'].astype('category')\n",
    "test_input['Year'] = test_input['Year'].astype('category')\n",
    "test_input['TrackStatus'] = test_input['TrackStatus'].astype('category')\n",
    "test_input['DRS'] = test_input['DRS'].astype('category')"
   ]
  },
  {
   "cell_type": "code",
   "execution_count": 240,
   "id": "f8f38507-2638-41f5-8ee1-bf425d5551df",
   "metadata": {},
   "outputs": [
    {
     "name": "stdout",
     "output_type": "stream",
     "text": [
      "Predicted Number of Stints: 3\n"
     ]
    }
   ],
   "source": [
    "# Predictions from loaded models\n",
    "# Model 1 - Number of Stints\n",
    "pred_stints = loaded_model_stints.predict(test_input)\n",
    "pred_stints = round(pred_stints[0])  # Rounding the prediction\n",
    "\n",
    "print(f'Predicted Number of Stints: {pred_stints}')\n",
    "\n",
    "# (pred_stints, pred_tires, pred_laps, pred_avg_lap_time)"
   ]
  },
  {
   "cell_type": "code",
   "execution_count": 242,
   "id": "336e98f1-9703-4062-a6da-758c17122be6",
   "metadata": {},
   "outputs": [
    {
     "name": "stdout",
     "output_type": "stream",
     "text": [
      "Predicted Tire Compounds Used: ['MEDIUM']\n"
     ]
    }
   ],
   "source": [
    "# Model 2- Used Tire Compound\n",
    "pred_tires = loaded_model_tires.predict(test_input)\n",
    "print(f'Predicted Tire Compounds Used: {pred_tires}')"
   ]
  },
  {
   "cell_type": "code",
   "execution_count": 244,
   "id": "c39b4f4b-65f3-453a-be69-9ead6001eb51",
   "metadata": {},
   "outputs": [
    {
     "name": "stdout",
     "output_type": "stream",
     "text": [
      "Predicted Number of Laps within Each Stint: 18\n"
     ]
    }
   ],
   "source": [
    "# Model 3 - Lap Number per Stint\n",
    "pred_laps = loaded_model_laps.predict(test_input)\n",
    "pred_laps = round(pred_laps[0])  # Rounding the prediction\n",
    "\n",
    "print(f'Predicted Number of Laps within Each Stint: {pred_laps}')"
   ]
  },
  {
   "cell_type": "code",
   "execution_count": 246,
   "id": "aea80bc2-c345-4367-9ca3-bd65472e6c37",
   "metadata": {},
   "outputs": [
    {
     "name": "stdout",
     "output_type": "stream",
     "text": [
      "Predicted Average Lap Time per Stint: [84.31518]\n"
     ]
    }
   ],
   "source": [
    "# Model 4 - Average Lap Time per Stint\n",
    "pred_avg_lap_time = loaded_model_avg_lap_time.predict(test_input)\n",
    "print(f'Predicted Average Lap Time per Stint: {pred_avg_lap_time}')"
   ]
  },
  {
   "cell_type": "code",
   "execution_count": null,
   "id": "67ef0fdf-2aec-4be3-8ac6-909596ff4c23",
   "metadata": {},
   "outputs": [],
   "source": []
  }
 ],
 "metadata": {
  "kernelspec": {
   "display_name": "Python 3 (ipykernel)",
   "language": "python",
   "name": "python3"
  },
  "language_info": {
   "codemirror_mode": {
    "name": "ipython",
    "version": 3
   },
   "file_extension": ".py",
   "mimetype": "text/x-python",
   "name": "python",
   "nbconvert_exporter": "python",
   "pygments_lexer": "ipython3",
   "version": "3.12.4"
  }
 },
 "nbformat": 4,
 "nbformat_minor": 5
}
